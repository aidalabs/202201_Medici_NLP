{
  "nbformat": 4,
  "nbformat_minor": 0,
  "metadata": {
    "colab": {
      "name": "01_Python_Basics_01.ipynb",
      "provenance": [],
      "collapsed_sections": [],
      "toc_visible": true
    },
    "kernelspec": {
      "name": "python3",
      "display_name": "Python 3"
    },
    "language_info": {
      "name": "python"
    }
  },
  "cells": [
    {
      "cell_type": "markdown",
      "source": [
        "# **Python**\n",
        "---\n",
        "*written by Seokhwan Yang (AiDALab)*"
      ],
      "metadata": {
        "id": "ZzISUeJFlnH6"
      }
    },
    {
      "cell_type": "markdown",
      "source": [
        "---\n",
        "- 참고도서\n",
        "  - 초보자를 위한 파이썬 200제 (장삼용 : 정보문화사)\n",
        "---"
      ],
      "metadata": {
        "id": "g_lzE1rMmzw5"
      }
    },
    {
      "cell_type": "markdown",
      "source": [
        "## **1. 파이썬 기초 문법**"
      ],
      "metadata": {
        "id": "XrV-FaoqpmC8"
      }
    },
    {
      "cell_type": "markdown",
      "metadata": {
        "id": "OCxW3qAlDgCf"
      },
      "source": [
        "### 1.1 프로그래밍이란?\n",
        "- 컴퓨터에게 일을 시키기 위한 명령어 모음을 만드는 일\n",
        "- 주어진 데이터를 우리가 원하는 형태로 가공, 처리하는 과정을 정리한 것"
      ]
    },
    {
      "cell_type": "markdown",
      "source": [
        "### 1.2 프로그래밍의 단계\n",
        "- 데이터 입력 → 데이터 처리 → 데이터 출력"
      ],
      "metadata": {
        "id": "viVaUV2yqSf-"
      }
    },
    {
      "cell_type": "markdown",
      "metadata": {
        "id": "1pYiZMrIQPMN"
      },
      "source": [
        "### 1.3 첫번째 파이썬 프로그램"
      ]
    },
    {
      "cell_type": "code",
      "metadata": {
        "colab": {
          "base_uri": "https://localhost:8080/"
        },
        "id": "F-9Tg_4KQOIW",
        "outputId": "888b0b28-27f6-4002-c8fb-f094e1b7b735"
      },
      "source": [
        "1+1"
      ],
      "execution_count": 1,
      "outputs": [
        {
          "output_type": "execute_result",
          "data": {
            "text/plain": [
              "2"
            ]
          },
          "metadata": {},
          "execution_count": 1
        }
      ]
    },
    {
      "cell_type": "markdown",
      "metadata": {
        "id": "Gvu_Utp9QgqJ"
      },
      "source": [
        "- 위의 내용을 입력과 출력으로 분리해 봅시다\n",
        "  - 먼저 데이터를 입력을 하려면 그 데이터를 담아둘 통이 필요하겠죠. 그냥 휙 던지면 컴퓨터는 그게 데이터인지 아닌지 모릅니다. 그래서 통에 넣어서 이게 데이터다.. 라고 알려주는데, 이 통을 변수, 상수 등의 이름으로 부릅니다. 이 중에서 앞으로 계속 바꿔가면서 사용할 통을 변수라고 하죠.<br><br>\n",
        "  - 컴퓨터가 이 변수를 구분해서 사용할 수 있도록 하려면 변수에 이름을 줘야 하겠죠. 우리는 두 개의 숫자를 데이터로 줄 것이니까 변수도 2개를 만들 것입니다. 이름은 a와 b라고 하죠. a에는 1을, b에는 2를 던져 줄 것입니다.\n"
      ]
    },
    {
      "cell_type": "code",
      "metadata": {
        "id": "MM7fUCic90fg"
      },
      "source": [
        "a=1\n",
        "b=2"
      ],
      "execution_count": 2,
      "outputs": []
    },
    {
      "cell_type": "code",
      "metadata": {
        "id": "q-lmqHoJRX4t"
      },
      "source": [
        "c = a + b"
      ],
      "execution_count": 3,
      "outputs": []
    },
    {
      "cell_type": "code",
      "metadata": {
        "colab": {
          "base_uri": "https://localhost:8080/"
        },
        "id": "VLkijuRCRaxZ",
        "outputId": "6fc4a615-9271-4944-9c1b-651b7df0f5cd"
      },
      "source": [
        "print(c)"
      ],
      "execution_count": 4,
      "outputs": [
        {
          "output_type": "stream",
          "name": "stdout",
          "text": [
            "3\n"
          ]
        }
      ]
    },
    {
      "cell_type": "markdown",
      "source": [
        "### 1.4 자료형 (Data Type)"
      ],
      "metadata": {
        "id": "5MrZ_yt4q3-Y"
      }
    },
    {
      "cell_type": "markdown",
      "metadata": {
        "id": "UdwWLVhyRpN0"
      },
      "source": [
        "- 데이터의 종류\n",
        "  - 데이터에는 여러 종류가 있습니다. 1, 2, 3... 과 같은 자연수 뿐만 아니라 -1, -2.. 와 같은 음수를 포함한 정수의 개념도 있고.. 0.123, -2.532 외 같은 소수점을 가진 실수도 있습니다. 점점 들어가면 제곱했을때 음수의 값을 가지는 허수를 포함한 복소수라는 것도 있죠. 수치 데이터를 벗어나 a, b, c, d... 가, 나, 다, 라.. 와 같은 문자로 구성된 데이터도 있습니다.<br><br>\n",
        "  - 그런데 파이썬에서는 데이터의 형태를 직접 선언하지 않아도 됩니다."
      ]
    },
    {
      "cell_type": "code",
      "metadata": {
        "id": "tSaFWBboRct5"
      },
      "source": [
        "a =1             # 자연수(=양의 정수)\n",
        "b = -2           # 음의 정수\n",
        "c = 0.2          # 실수\n",
        "d = 3+5j         # 복소수 --> 파이썬에서는 복소수 표현 시 i가 아니라 j를 사용함\n",
        "e =\"Hello\"       # 문자열(영어)\n",
        "f = \"안녕하세요\" # 문자열(한글)"
      ],
      "execution_count": 5,
      "outputs": []
    },
    {
      "cell_type": "code",
      "metadata": {
        "colab": {
          "base_uri": "https://localhost:8080/"
        },
        "id": "nWubKBLOTMo3",
        "outputId": "1c7dd637-16dd-4025-f8de-3533fdd94f3d"
      },
      "source": [
        "print(a)\n",
        "print(b)\n",
        "print(c)\n",
        "print(d)\n",
        "print(e)\n",
        "print(f)"
      ],
      "execution_count": 6,
      "outputs": [
        {
          "output_type": "stream",
          "name": "stdout",
          "text": [
            "1\n",
            "-2\n",
            "0.2\n",
            "(3+5j)\n",
            "Hello\n",
            "안녕하세요\n"
          ]
        }
      ]
    },
    {
      "cell_type": "code",
      "metadata": {
        "colab": {
          "base_uri": "https://localhost:8080/"
        },
        "id": "DXjm5GVkTUvF",
        "outputId": "14855ade-8f37-42bc-b018-07fe816b8e0a"
      },
      "source": [
        "print(a, ':', type(a))\n",
        "print(b, ':', type(b))\n",
        "print(c, ':', type(c))\n",
        "print(d, ':', type(d))\n",
        "print(e, ':', type(e))\n",
        "print(f, ':', type(f))"
      ],
      "execution_count": 7,
      "outputs": [
        {
          "output_type": "stream",
          "name": "stdout",
          "text": [
            "1 : <class 'int'>\n",
            "-2 : <class 'int'>\n",
            "0.2 : <class 'float'>\n",
            "(3+5j) : <class 'complex'>\n",
            "Hello : <class 'str'>\n",
            "안녕하세요 : <class 'str'>\n"
          ]
        }
      ]
    },
    {
      "cell_type": "markdown",
      "metadata": {
        "id": "lDF1N5UeXBAI"
      },
      "source": [
        "- 변수의 이름 정하기\n",
        "  - 그런데 a, b, c, d, e.... 변수 명이 단조롭죠. 프로그램이 점점 커지고 변수의 이름을 정의한 곳과 변수를 사용한 곳의 거리가 멀어질수록, 그리고 변수의 개수가 많아질수록 헷갈리기 시작합니다. 그래서 변수의 명은 가능하면 쉽게 알아볼 수 있는 단어를 사용하시는 것이 좋습니다.<br><br>\n",
        "  - 변수의 이름은 기억하기 쉽고 구분하기 쉽게 작성하시면 됩니다. 변수의 이름을 정할 때 반드시 따라야 하는 규칙같은 것은 없지만 각 언어에 따라, 또는 팀에 따라 권장하는 형태는 있습니다. 혼자만 작성하고 보고 사용할 코드가 아니라면 언어별, 팀별로 권장하는 규칙을 따라주는 것이 협업에 도움이 되겠죠."
      ]
    },
    {
      "cell_type": "code",
      "metadata": {
        "colab": {
          "base_uri": "https://localhost:8080/"
        },
        "id": "2qhuvPzQTXUl",
        "outputId": "595b000c-26e1-43b7-b62c-44cd9a3932f2"
      },
      "source": [
        "int_data_1 = 1\n",
        "int_data_2 = -2\n",
        "float_data = 0.2\n",
        "complex_data = 3+5j\n",
        "string_data_eng = \"Hello\"\n",
        "string_data_kor = \"안녕하세요\"\n",
        "\n",
        "print(int_data_1)\n",
        "print(int_data_2)\n",
        "print(float_data)\n",
        "print(complex_data)\n",
        "print(string_data_eng)\n",
        "print(string_data_kor)"
      ],
      "execution_count": 8,
      "outputs": [
        {
          "output_type": "stream",
          "name": "stdout",
          "text": [
            "1\n",
            "-2\n",
            "0.2\n",
            "(3+5j)\n",
            "Hello\n",
            "안녕하세요\n"
          ]
        }
      ]
    },
    {
      "cell_type": "markdown",
      "source": [
        "### 1.5 집합 형태의 데이터"
      ],
      "metadata": {
        "id": "VKrza7i7tFP6"
      }
    },
    {
      "cell_type": "markdown",
      "metadata": {
        "id": "nZcHAc0jYRBT"
      },
      "source": [
        "- 리스트 (List)\n",
        "  - 다음으로 지금까지 사용해 본 변수들이 하나가 아니라 여러 개가 모여서 구성된 데이터의 형태가 있습니다. 대부분의 프로그래밍 언어에서는 배열, Array 라고 표현하는 것들인데 파이썬에서는 리스트(List)라고 합니다.<br><br>\n",
        "  - 사실 배열, Array와 리스트는 조금 다릅니다. 배열은 동일한 형태(실수끼리, 문자열끼리... 등)의 데이터 여러 개가 순서대로 모여 있는 것을 말하지만 파이썬의 List는 꼭 동일한 형태가 아니어도 관계없습니다.<br><br>\n",
        "  - 다른 프로그래밍 언어.. 예를 들면 Java와 같은 언어에서의 Collection 이란 것과 비슷하다고 볼 수 있습니다. 리스트의 데이터는 대괄호 [ ] 로 둘러싸서 표시하며 안에 있는 데이터는 콤마( , )로 구분합니다.<br><br>\n",
        "  - 리스트 안의 데이터를 하나씩 지정하고 싶을때는 [x] 와 같은 형태로 사용하시면 됩니다.[x]에서 x에는 리스트 안의 몇 번째 데이터를 사용할 것인지 지정하는 숫자가 들어가는데 이 때 숫자, 즉 인덱스는 0부터 시작합니다.<br><br>\n",
        "  - 리스트 안의 리스트를 지정하여 그 안의 데이터를 사용하려면 한 단계 더 지정해 주시면 됩니다. 아래의 코드에서 print(list_3[4][1]) 의 의미는 list_3 변수에서 0, 1, 2, 3, 4에서 4, 즉 다섯 번째의 값인 ['see', 'you', 'later']를  지정하고, 그 안에서 0, 1 즉 두 번째의 데이터인 'you'를 지정한 것입니다. 이런 식으로 계속해서 사용할 수 있습니다."
      ]
    },
    {
      "cell_type": "code",
      "metadata": {
        "colab": {
          "base_uri": "https://localhost:8080/"
        },
        "id": "B2vD8Fj0X6i5",
        "outputId": "c9a39191-79d4-41aa-ffb1-37affb153632"
      },
      "source": [
        "list_1 = [1, 3, 5, 7, 9]\n",
        "list_2 = ['hello', 'good morning', 'a', 'b', 'c']\n",
        "list_3 = [2, 4, 'bye', [6, 8, 10], ['see', 'you', 'later']]\n",
        "\n",
        "print(list_1)\n",
        "print(list_2)\n",
        "print(list_3)\n",
        "print('-------------------------------')\n",
        "print(list_1[0])\n",
        "print(list_2[1])\n",
        "print(list_3[3])\n",
        "print('-------------------------------')\n",
        "print(list_3[4][1])"
      ],
      "execution_count": 9,
      "outputs": [
        {
          "output_type": "stream",
          "name": "stdout",
          "text": [
            "[1, 3, 5, 7, 9]\n",
            "['hello', 'good morning', 'a', 'b', 'c']\n",
            "[2, 4, 'bye', [6, 8, 10], ['see', 'you', 'later']]\n",
            "-------------------------------\n",
            "1\n",
            "good morning\n",
            "[6, 8, 10]\n",
            "-------------------------------\n",
            "you\n"
          ]
        }
      ]
    },
    {
      "cell_type": "markdown",
      "metadata": {
        "id": "TwCIutdBZPDZ"
      },
      "source": [
        "- 튜플 (Tuple)\n",
        "  - 리스트와 비슷한 것으로 튜플(Tuple)이라는 것이 있습니다. 튜플의 데이터는 괄호 ( ) 로 둘러싸서 표시하며 안에 있는 데이터는 콤마( , )로 구분합니다.<br><br>\n",
        "  - 리스트와 튜플의 차이는 안에 들어있는 값을 바꿀수 있는지 없는지.. 입니다. 리스트는 안에 들어있는 값을 바꿀 수 있고, 튜플은 바꿀 수 없습니다. "
      ]
    },
    {
      "cell_type": "code",
      "metadata": {
        "colab": {
          "base_uri": "https://localhost:8080/",
          "height": 307
        },
        "id": "hiwl32OPZF26",
        "outputId": "83c3053b-fa1c-45ee-9ce0-f40d11e3088f"
      },
      "source": [
        "list_4 = [1, 2, 3, 4, 5]\n",
        "tuple_1 = (1, 2, 3, 4, 5)\n",
        "\n",
        "print(list_4)\n",
        "list_4[2] = 10\n",
        "print(list_4)\n",
        "print('----------------------------------')\n",
        "print(tuple_1)\n",
        "tuple_1[2] = 10\n",
        "print(tuple_1)"
      ],
      "execution_count": 10,
      "outputs": [
        {
          "output_type": "stream",
          "name": "stdout",
          "text": [
            "[1, 2, 3, 4, 5]\n",
            "[1, 2, 10, 4, 5]\n",
            "----------------------------------\n",
            "(1, 2, 3, 4, 5)\n"
          ]
        },
        {
          "output_type": "error",
          "ename": "TypeError",
          "evalue": "ignored",
          "traceback": [
            "\u001b[0;31m---------------------------------------------------------------------------\u001b[0m",
            "\u001b[0;31mTypeError\u001b[0m                                 Traceback (most recent call last)",
            "\u001b[0;32m<ipython-input-10-e68eba7abee2>\u001b[0m in \u001b[0;36m<module>\u001b[0;34m()\u001b[0m\n\u001b[1;32m      7\u001b[0m \u001b[0mprint\u001b[0m\u001b[0;34m(\u001b[0m\u001b[0;34m'----------------------------------'\u001b[0m\u001b[0;34m)\u001b[0m\u001b[0;34m\u001b[0m\u001b[0;34m\u001b[0m\u001b[0m\n\u001b[1;32m      8\u001b[0m \u001b[0mprint\u001b[0m\u001b[0;34m(\u001b[0m\u001b[0mtuple_1\u001b[0m\u001b[0;34m)\u001b[0m\u001b[0;34m\u001b[0m\u001b[0;34m\u001b[0m\u001b[0m\n\u001b[0;32m----> 9\u001b[0;31m \u001b[0mtuple_1\u001b[0m\u001b[0;34m[\u001b[0m\u001b[0;36m2\u001b[0m\u001b[0;34m]\u001b[0m \u001b[0;34m=\u001b[0m \u001b[0;36m10\u001b[0m\u001b[0;34m\u001b[0m\u001b[0;34m\u001b[0m\u001b[0m\n\u001b[0m\u001b[1;32m     10\u001b[0m \u001b[0mprint\u001b[0m\u001b[0;34m(\u001b[0m\u001b[0mtuple_1\u001b[0m\u001b[0;34m)\u001b[0m\u001b[0;34m\u001b[0m\u001b[0;34m\u001b[0m\u001b[0m\n",
            "\u001b[0;31mTypeError\u001b[0m: 'tuple' object does not support item assignment"
          ]
        }
      ]
    },
    {
      "cell_type": "markdown",
      "metadata": {
        "id": "Ejvcehwoag7_"
      },
      "source": [
        "- 딕셔너리 (Dictionary)\n",
        "  - 마지막으로 사전, 딕셔너리(Dictionary)라고 부르는 데이터의 형태가 있습니다.<br><br>\n",
        "  - 딕셔너리의 데이터는 중괄호 { } 로 둘러싸서 표시하며 안에 있는 데이터는 콤마( , )로 구분합니다. 그리고 딕셔너리의 데이터는 \"키:값\"의 형태로 한 쌍의 요소로 구성되어 있습니다.<br><br>\n",
        "  - 리스트나 튜플과 달리 딕셔너리는 안에 있는 데이터에 순서가 정해져 있지 않습니다. 그래서 \"키:값\"으로 구성된 데이터 쌍에서 \"키\"를 [ ] 안에 입력하여 원하는 데이터를 지정하고 사용합니다.<br><br>\n",
        "  - \"키:값\"의 내용에서 키와 값의 데이터 형태는 정해진 것이 없으니 필요한 대로 사용하시면 됩니다. 그런데 \"키\"라는 것은 단 하나를 지칭하기 위한 것이니까 여기에 배열같은 것을 지정하시면 안되겠죠.<br><br>\n",
        "  - 그리고 리스트와 마찬가지로 딕셔너리도 내부의 값을 바꿀 수 있습니다."
      ]
    },
    {
      "cell_type": "code",
      "metadata": {
        "colab": {
          "base_uri": "https://localhost:8080/"
        },
        "id": "AcX7LZdKaeOs",
        "outputId": "8afe44cb-32b4-420b-c42d-843fc7f1abfa"
      },
      "source": [
        "dictionary_1 = {0:'False', 1:'True', 'a':\"small A\", \"b\":\"small B\", 'three':3, 'four':4}\n",
        "\n",
        "print(dictionary_1)\n",
        "print('------------------------------------------')\n",
        "print(dictionary_1[1])\n",
        "print(dictionary_1[\"a\"])\n",
        "print(dictionary_1['four'])\n",
        "print('------------------------------------------')\n",
        "dictionary_1[\"b\"] = \"alphabet small B\"\n",
        "print(dictionary_1[\"b\"])"
      ],
      "execution_count": 11,
      "outputs": [
        {
          "output_type": "stream",
          "name": "stdout",
          "text": [
            "{0: 'False', 1: 'True', 'a': 'small A', 'b': 'small B', 'three': 3, 'four': 4}\n",
            "------------------------------------------\n",
            "True\n",
            "small A\n",
            "4\n",
            "------------------------------------------\n",
            "alphabet small B\n"
          ]
        }
      ]
    },
    {
      "cell_type": "markdown",
      "source": [
        "### 1.6 데이터 처리를 위한 기본 구문"
      ],
      "metadata": {
        "id": "usX2m-TIuw0c"
      }
    },
    {
      "cell_type": "markdown",
      "source": [
        "- 위에서 공부한 자료형을 기반으로 데이터를 처리해 봅시다."
      ],
      "metadata": {
        "id": "GteoPBhkzZkE"
      }
    },
    {
      "cell_type": "markdown",
      "metadata": {
        "id": "qxNfdbnDbuQa"
      },
      "source": [
        "#### 1.6.1 조건문\n",
        "- 데이터의 처리는 단순한 사칙연산만 있는게 아니죠. 이럴땐 이렇게 처리하고, 저럴땐 저렇게 처리하고.. 우리가 원하는 여러가지 처리를 위한 공식이나 조건들이 있을것입니다.<br><br>\n",
        "- 컴퓨터는 우리가 머리로 생각하는 것처럼 이것저것 뚝딱뚝딱 처리하지 못합니다. 그냥 시키는대로.. 순서대로.. 쭈욱~ 이어서 처리를 해 나가는거죠. 그러면 우리는 무엇을 어떻게 시켜야할까요? 말 그대로, 순서대로 쭉 이어서 가다가 이런 경우에는 이렇게 해라~ 라고 조건을 주고 그 조건에 따른 동작을 지정해 주면 되겠죠.<br><br>\n",
        "- 이렇게 컴퓨터에게 처리를 위한 조건을 알려주는 구문을 조건문이라고 합니다. 가장 기본적인 조건문은 if ○○ else ☆☆ 구문이 있습니다. 만약 ○○이면 ☆☆를 해라. 라는 의미입니다."
      ]
    },
    {
      "cell_type": "code",
      "metadata": {
        "colab": {
          "base_uri": "https://localhost:8080/"
        },
        "id": "mihlq-4cbqXL",
        "outputId": "1a6b41c3-5c69-4f4e-ea60-b0ecc3276a1a"
      },
      "source": [
        "a = 10\n",
        "b = 20\n",
        "\n",
        "if a > b:\n",
        "    print(\"a가 b보다 큽니다.\")\n",
        "else:\n",
        "    print(\"a가 b보다 크지 않습니다.\")"
      ],
      "execution_count": 12,
      "outputs": [
        {
          "output_type": "stream",
          "name": "stdout",
          "text": [
            "a가 b보다 크지 않습니다.\n"
          ]
        }
      ]
    },
    {
      "cell_type": "markdown",
      "metadata": {
        "id": "8qQL9AvKda5T"
      },
      "source": [
        "- 코드 설명\n",
        "  - 그런데 여기서 특이한 모습이 보입니다. if a > b: 와 같이 마지막에 콜론( : )이 붙어있습니다. 이전에 봤던 코드에는 이런 것은 없었죠.<br><br>\n",
        "  - 만약 a > b 라면.. 이라는 구문을 만족할때 우리는 \"a가 b보다 큽니다.\"라는 문자열을 출력하려고 하는데.. 그 구문을 만족할 때 과언 어디까지 실행을 해야 할까요? 그걸 지정해 주지 않으면 끝까지 흘러가 버리겠죠. 그래서 우리는 명령들을 블록이란 것으로 나누어서 표현합니다. 그리고 콜론( : )은 블록을 지정하는 구문의 끝에 붙여서 다음 줄부터 블록이 시작된다.. 라고 표시해 주는 것입니다.<br><br>\n",
        "  - 그럼 블록의 끝은 어떻게 표현할까요? 파이썬에서는 블록의 구분을 들여쓰기를 이용해서 지정합니다. 소스코드를 보시면 print 구문이 몇 칸 안으로 들어와있죠? 저렇게 같은 간격으로 들여쓰기 된 구문들은 모두 같은 블록이다.. 라고 인식하는 것입니다. 그렇다면 블록의 끝을 지나면 들여쓰기의 간격을 원래대로 돌려두면 되겠죠.<br><br>\n",
        "  - 위의 코드를 보시면 print 구문이 끝나고 들여쓰기가 해제되었습니다. 이제 블록은 끝났다는 뜻입니다.<br><br>\n",
        "  - 그럼 if 구문에 따른 블록은 끝났으니 다음 명령어로 내려가겠죠. else 라는 구문을 만났습니다. 역시 콜론( : )을 통해서 블록의 시작을 알려주고 print 구문을 실행했습니다.<br><br>\n",
        "  - 이것으로 if ○○ else ☆☆ 조건문이 끝났습니다."
      ]
    },
    {
      "cell_type": "markdown",
      "source": [
        "- 기본 조건문의 확장\n",
        "  - 그런데 조건이 딱 한 가지만 있진 않겠죠. 이럴땐 이렇게, 저럴땐 저렇게, 그 외에도 또 다른 조건을 동시에 지정할 수 있습니다.<br><br>\n",
        "  - 이럴 경우에는 if ○○ else ☆☆ 문을 중첩해서 사용하는 방법과 if ○○ elif ☆☆ else △△ 와 같이 if ○○ else ☆☆ 구문이 확장된 표현을 사용하는 방법중 하나를 선택할 수 있습니다."
      ],
      "metadata": {
        "id": "ajAkNol8yxhh"
      }
    },
    {
      "cell_type": "code",
      "metadata": {
        "colab": {
          "base_uri": "https://localhost:8080/"
        },
        "id": "aRIry-chdWFj",
        "outputId": "12301d7d-830e-4a10-ddd0-d76e46893c6d"
      },
      "source": [
        "a = 10\n",
        "b = 20\n",
        "\n",
        "if a > b:\n",
        "    print(\"a가 b보다 큽니다.\")\n",
        "elif a == b:\n",
        "    print(\"a와 b가 같습니다.\")\n",
        "else:\n",
        "    print(\"a가 b보다 작습니다.\")"
      ],
      "execution_count": 13,
      "outputs": [
        {
          "output_type": "stream",
          "name": "stdout",
          "text": [
            "a가 b보다 작습니다.\n"
          ]
        }
      ]
    },
    {
      "cell_type": "code",
      "metadata": {
        "colab": {
          "base_uri": "https://localhost:8080/"
        },
        "id": "d0hzinbPgIb8",
        "outputId": "fd8e0cc4-719b-4bd5-d283-86ad91f3639a"
      },
      "source": [
        "a = 30\n",
        "b = 20\n",
        "\n",
        "if a > b:\n",
        "    print(\"a가 b보다 큽니다.\")\n",
        "else:\n",
        "    if a == b:\n",
        "        print(\"a와 b가 같습니다.\")\n",
        "    else:\n",
        "        print(\"a가 b보다 작습니다.\")"
      ],
      "execution_count": 14,
      "outputs": [
        {
          "output_type": "stream",
          "name": "stdout",
          "text": [
            "a가 b보다 큽니다.\n"
          ]
        }
      ]
    },
    {
      "cell_type": "markdown",
      "source": [
        "- 코드 설명\n",
        "\t- 위의 코드에서 a == b 라는 구문은 a와 b가 같다는 것을 의미합니다.<br><br>\n",
        "\t- 일반적으로 프로그래밍에서는 왼쪽 데이터, 변수와 오른쪽 데이터, 변수가 같다고 표현할 때에는 == 를 사용합니다. 왼쪽 항이 크다 (>), 왼쪽 항이 작다 (<)의 경우는 기존의 수학(산수?)과 같은 부호를 사용하는데 같다의 경우에는 기존의 등호 (=)를 사용하지 않죠.<br><br>\n",
        "\t- 이유는 기존의 등호 (=)는 오른쪽 항의 값을 왼쪽 항에 넣는다는 의미로 사용되기 때문에 두 가지를 구분하기 위해서 입니다. 그래서 기존의 등호 (=)는 할당연산자라고 불립니다.<br><br>\n",
        "\t- 위의 두 종류의 코드는 같은 결과를 출력해 줍니다.<br><br>\n",
        "- 여기서 우리가 알 수 있는 것은 if ○○ elif ☆☆ else △△ 구문만이 아니라.. 동일한 결과를 위한 코드의 작성에 정답은 없다.. 라는 것입니다.  if ○○ elif ☆☆ else △△ 구문을 사용해도 되고  if ○○ elseif ☆☆ 구문을 중첩해서 사용해도 됩니다. 나중에 배울 또 다른 조건문을 사용해도 되죠. 편하신 대로 코드를 작성하시면 됩니다.<br><br>\n",
        "- 물론 좀 더 실력이 좋아지고 컴퓨터가 처리하는 내부과정까지 이해하게 되면 각 구문들의 차이점이나 효율성 등을 따져서 작성하실 수 있습니다. 그런 프로그래밍을 위해서 더욱 빠르고 효율적인 처리가 가능하도록 정리된 것이 흔히 말하는 좋은 알고리즘이라고 하는 것들이죠. 아직까지는 거기까지 신경쓰지 않으셔도 됩니다.<br><br>\n",
        "- 지금까지 가장 기본적인 조건문에 대하여 살펴보았습니다."
      ],
      "metadata": {
        "id": "msybZZDJ05Hw"
      }
    },
    {
      "cell_type": "markdown",
      "metadata": {
        "id": "xQw_8AWEik_x"
      },
      "source": [
        "#### 1.6.2 반복문\n",
        "- 사람은 하기 힘들어하지만 컴퓨터가 가장 잘 하는 일은 무엇일까요? 바로 단순한 작업을 계속해서 반복하는 것이겠죠. 사람에게 단순 작업을 반복해서 시키면 금방 지겨워져서 집중해서 일을 하지 못할 것입니다. 실수도 늘어나겠죠. 그렇지만 컴퓨터는 그럴 일이 없으니 반복 작업을 시키기에는 가장 좋은 일꾼입니다. 따라서 반복작업을 지시하는 명령은 컴퓨터에게 일을 잘 시키기 위한 매우 중요한 수단입니다.<br><br>\n",
        "- for문\n",
        "  - 파이썬에서 사용하는 반복문은 크게 For 문과 While 문의 두 가지로 구분됩니다. 그 중에서 가장 많이 사용되는 것이 For 문인데.. For 문은 다양한 활용 형태를 가집니다. 먼저 가장 기본적인 형태를 살펴보겠습니다."
      ]
    },
    {
      "cell_type": "code",
      "metadata": {
        "colab": {
          "base_uri": "https://localhost:8080/"
        },
        "id": "c8yjBjHGigzj",
        "outputId": "be870053-f964-46ee-acca-ba236d8f24fd"
      },
      "source": [
        "area = [1, 3, 4, 6, 7]\n",
        "\n",
        "for x in area:\n",
        "    print(x)"
      ],
      "execution_count": 15,
      "outputs": [
        {
          "output_type": "stream",
          "name": "stdout",
          "text": [
            "1\n",
            "3\n",
            "4\n",
            "6\n",
            "7\n"
          ]
        }
      ]
    },
    {
      "cell_type": "markdown",
      "metadata": {
        "id": "gIimTyx2kPGC"
      },
      "source": [
        "- 코드 설명\n",
        "  - 먼저 1, 3, 4, 6, 7을 값으로 가지는 리스트를 area라는 변수에 할당했습니다. 그 다음의 for 문은 area 리스트 안의 값을 순서대로 하나씩 꺼내서 x에 할당하고, x에 하나의 값이 할당될 때 마다 print 문을 실행하라~ 라는 의미입니다.<br><br>\n",
        "  - 그렇다면 area는 총 5개의 값을 가지고 있으니 print 구문을 5번 실행하겠죠. 그리고 출력되는 내용인 x는 area 리스트에서 순서대로 꺼낸 1, 3, 4, 6, 7이 순서대로 출력될 것입니다.<br><br>\n",
        "  - for 구문에는 리스트 외에도 문자열(문자열도 엄밀히 말하면 문자들의 리스트입니다), 딕셔너리, 범위 등이 사용될 수 있습니다.<br><br>\n",
        "- 각각의 예제를 살펴봅시다."
      ]
    },
    {
      "cell_type": "code",
      "metadata": {
        "colab": {
          "base_uri": "https://localhost:8080/"
        },
        "id": "hLpBblljkNRa",
        "outputId": "50cd590b-7a97-48d8-dfa4-da1d0e961d89"
      },
      "source": [
        "# 문자열을 사용한 예\n",
        "area_string = \"Hello\"\n",
        "\n",
        "for x in area_string:\n",
        "    print(x)"
      ],
      "execution_count": 16,
      "outputs": [
        {
          "output_type": "stream",
          "name": "stdout",
          "text": [
            "H\n",
            "e\n",
            "l\n",
            "l\n",
            "o\n"
          ]
        }
      ]
    },
    {
      "cell_type": "code",
      "metadata": {
        "colab": {
          "base_uri": "https://localhost:8080/"
        },
        "id": "XFUCaExgkiW4",
        "outputId": "bd23da8a-a323-444e-89d8-09e888169b4e"
      },
      "source": [
        "# 딕셔너리를 사용한 예\n",
        "area_dictionary = {'a':'Nice', 'b':'to', 'c':'meet', 'd':'you'}\n",
        "\n",
        "for x in area_dictionary:\n",
        "    print(x)"
      ],
      "execution_count": 17,
      "outputs": [
        {
          "output_type": "stream",
          "name": "stdout",
          "text": [
            "a\n",
            "b\n",
            "c\n",
            "d\n"
          ]
        }
      ]
    },
    {
      "cell_type": "markdown",
      "metadata": {
        "id": "b4sM4_Lxk8N3"
      },
      "source": [
        "- 코드 설명\n",
        "  - 딕셔너리를 사용한 예에서도 4개의 값을 잘 출력했습니다.<br><br>\n",
        "  - 그런데 \"Nice\", \"to\", \"meet\", \"you\"를 출력하고 싶은데 이것은 어떻게 할까요? for 구문이 사용하는 것은 딕셔너리에 포함된 값을 순서대로 꺼낸 것이기 때문에 \"키:값\"의 쌍에서 \"키\"만을 사용하고 있습니다. 그러면 우리는 area_dictionary 변수를 사용해서 출력해 줄 수 있겠죠. 키를 사용할 수 있으니까요."
      ]
    },
    {
      "cell_type": "code",
      "metadata": {
        "colab": {
          "base_uri": "https://localhost:8080/"
        },
        "id": "hVeKNEz0k5EB",
        "outputId": "6bc50353-18f6-45b1-e359-fb3909ac57e4"
      },
      "source": [
        "area_dictionary = {'a':'Nice', 'b':'to', 'c':'meet', 'd':'you'}\n",
        "\n",
        "for x in area_dictionary:\n",
        "    print(x, ':', area_dictionary[x])"
      ],
      "execution_count": 18,
      "outputs": [
        {
          "output_type": "stream",
          "name": "stdout",
          "text": [
            "a : Nice\n",
            "b : to\n",
            "c : meet\n",
            "d : you\n"
          ]
        }
      ]
    },
    {
      "cell_type": "markdown",
      "metadata": {
        "id": "qyEHwj_glWAa"
      },
      "source": [
        "- 다수의 값을 반환받기\n",
        "  - 파이썬에서는 어떤 함수의 결과로 하나의 값만 받는 것이 아니라 두 개 이상의 값을 받을 수 있습니다. 그래서 area_dictionary 라는 딕셔너리 변수에서 우리가 사용할 수 있는 items라는 함수를 한 번 사용해 보겠습니다."
      ]
    },
    {
      "cell_type": "code",
      "metadata": {
        "colab": {
          "base_uri": "https://localhost:8080/"
        },
        "id": "D6cnwCR0lRhc",
        "outputId": "61129222-cd37-47bd-9bc6-f6be7591488f"
      },
      "source": [
        "area_dictionary = {'a':'Nice', 'b':'to', 'c':'meet', 'd':'you'}\n",
        "\n",
        "for key, value in area_dictionary.items():\n",
        "    print(key, ':', value)"
      ],
      "execution_count": 19,
      "outputs": [
        {
          "output_type": "stream",
          "name": "stdout",
          "text": [
            "a : Nice\n",
            "b : to\n",
            "c : meet\n",
            "d : you\n"
          ]
        }
      ]
    },
    {
      "cell_type": "markdown",
      "metadata": {
        "id": "dwHjHV3GmFd6"
      },
      "source": [
        "- 코드 설명\n",
        "  - 파이썬이 사용하는 모든 데이터 타입(형태)는 클래스라는 구조로 만들어져 있습니다. 클래스에 대한 것은 다음에 설명드리도록 하겠습니다. 지금은 클래스로 되어 있다는 것만 아셔도 됩니다. 아무튼.. 모든 데이터 타입은 클래스로 되어 있기때문에 클래스가 가지고 있는 다양한 함수를 끌어내어 사용할 수 있습니다.<br><br>\n",
        "  - 바로 위의 예제에서 사용한 items( ) 라는 것도 딕셔너리 클래스가 가지고 있는 함수 중의 하나입니다. 딕셔너리 변수가 가지고 있는 각 항목들을 키와 값의 쌍으로 돌려주는 기능을 하죠. 따라서 for 구문을 실행하는데 area_dictionary가 가지고 있는 키와 값의 쌍을 순서대로 꺼내어서 그 개수만큼 for문의 블록 안에 있는 구문을 실행하라~ 라는 의미를 가지게 됩니다.<br><br>\n",
        "  - 그리고 area_dictionary 변수의 키:값 쌍을 함께 받아와서 키는 key 변수에, 값은 value 변수에 넣어두었기 때문에 key 변수와 value 변수를 출력하는 print문을 블록에 사용했습니다. 앞에서 본 예제와 같은 결과를 확인할 수 있습니다."
      ]
    },
    {
      "cell_type": "markdown",
      "source": [
        "- range 함수를 사용한 예제\n",
        "  - range( ) 함수는 내부에 지정된 범위 안의 숫자를 돌려주는 함수입니다."
      ],
      "metadata": {
        "id": "xjNRZYDeE40P"
      }
    },
    {
      "cell_type": "code",
      "metadata": {
        "colab": {
          "base_uri": "https://localhost:8080/"
        },
        "id": "5UtMwi_Nlmws",
        "outputId": "1f8a5e7c-7ace-4c36-e19b-5a2ec50d7ee1"
      },
      "source": [
        "for x in range(5):\n",
        "    print(x)"
      ],
      "execution_count": 20,
      "outputs": [
        {
          "output_type": "stream",
          "name": "stdout",
          "text": [
            "0\n",
            "1\n",
            "2\n",
            "3\n",
            "4\n"
          ]
        }
      ]
    },
    {
      "cell_type": "code",
      "metadata": {
        "colab": {
          "base_uri": "https://localhost:8080/"
        },
        "id": "ep5sMP86mqKJ",
        "outputId": "a25f1fca-7a5f-4508-c68c-0dac1f8dfe9c"
      },
      "source": [
        "for x in range(3, 5):\n",
        "    print(x)"
      ],
      "execution_count": 21,
      "outputs": [
        {
          "output_type": "stream",
          "name": "stdout",
          "text": [
            "3\n",
            "4\n"
          ]
        }
      ]
    },
    {
      "cell_type": "markdown",
      "metadata": {
        "id": "o6dqgYPVm2MJ"
      },
      "source": [
        "- 코드 설명\n",
        "  - 위의 예제 중 첫 번째는 먼저 0부터 5의 앞까지의 범위 안에 있는 숫자(0, 1, 2, 3, 4)를 순서대로 꺼내어 print 문으로 출력을 반복하라.. 라는 의미입니다.<br><br>\n",
        "  - 이때, range( ) 함수 안의 범위는 위의 두 번째 예제와 같이 지정할 수 있습니다. 3부터 5의 앞까지의 범위 안의 숫자 (3, 4)를 순서대로 꺼내어 print 문으로 출력을 반복하라.. 라는 의미죠. 범위를 지정할 때 뒤에 있는 5는 5까지.. 의 의미가 아니라 5의 앞까지.. 의 범위입니다.<br><br>\n",
        "  - 또한 range( ) 함수에서는 범위 안의 숫자 사이의 간격을 지정할 수도 있습니다. 다음 예제는 3부터 10의 앞까지의 숫자를 꺼내되, 각 숫자는 2씩 증가하도록 꺼내어서 print 문으로 출력하라.. 라는 의미입니다. 2만큼의 간격대로 3, 5, 7, 9가 출력된 것을 볼 수 있습니다."
      ]
    },
    {
      "cell_type": "code",
      "metadata": {
        "colab": {
          "base_uri": "https://localhost:8080/"
        },
        "id": "Ef_BSpScmvRx",
        "outputId": "7f2a2258-204b-460e-e4a8-668fb595648e"
      },
      "source": [
        "for x in range(3, 10, 2):\n",
        "    print(x)"
      ],
      "execution_count": 22,
      "outputs": [
        {
          "output_type": "stream",
          "name": "stdout",
          "text": [
            "3\n",
            "5\n",
            "7\n",
            "9\n"
          ]
        }
      ]
    },
    {
      "cell_type": "markdown",
      "metadata": {
        "id": "snAQOyp2n4QN"
      },
      "source": [
        "- for 문의 확장\n",
        "  - For문은 반복적인 처리를 위해서 사용하는 구문이라고 말씀드렸습니다. 그런데 그런 반복된 처리 속에서 반복 작업을 중단하고 나가야 한다거나 흐름에 변형을 주어야 할 때에는 어떻게 할까요?<br><br>\n",
        "  - 앞의 예제어서 다루었던 if ○○ 구문을 이용해서 For 문을 빠져나간다거나.. 반복 작업 속에서 상황에 따라 다른 작업을 선택하도록 할 수도 있습니다. 실제로 많은 경우에 그런 방식으로 For문을 사용하고 있습니다.<br><br>\n",
        "  - 파이썬에서는 이런 경우에 대하여 for ○○ continue △△ break구문과 for ○○ else 구문을 제공하고 있습니다.사실 continue 구문은 직관적으로 눈에 들어오지 않는 편이어서 좀 헷갈리거나.. 이런 것을 왜 쓰지? 라고 하실 수도 있습니다.<br><br>\n",
        "  - 먼저 for ○○ continue △△ break 구문을 살펴보겠습니다. for ○○ continue △△ break 구문은 반복문을 수행하던 도중에 어떤 조건을 만나면 반복문을 계속 수행하고, 그 조건을 만족하지 않으면 반복문을 빠져나가도록 하는 구문입니다."
      ]
    },
    {
      "cell_type": "code",
      "metadata": {
        "colab": {
          "base_uri": "https://localhost:8080/"
        },
        "id": "SdE9IO_QnGHV",
        "outputId": "ddb06bb4-5410-4608-b4d7-d4e35d0fc1d0"
      },
      "source": [
        "area = [1, 3, 4, 6, 7]\n",
        "\n",
        "for x in area:\n",
        "    print(x)\n",
        "    if x < 4:\n",
        "        continue\n",
        "    else:\n",
        "        break"
      ],
      "execution_count": 23,
      "outputs": [
        {
          "output_type": "stream",
          "name": "stdout",
          "text": [
            "1\n",
            "3\n",
            "4\n"
          ]
        }
      ]
    },
    {
      "cell_type": "markdown",
      "metadata": {
        "id": "6sEnYkrqo-12"
      },
      "source": [
        "- 코드 설명\n",
        "  - 기존의 예제 코드에 continue, break를 적용한 예제입니다.<br><br>\n",
        "  - 의미는 1, 3, 4, 6, 7 이라는 값을 가진 리스트 area에서 값들을 순서대로 꺼내어 반복문을 실행하라는 의미인데 1, 3, 4, 6, 7 값이 순서대로 x에 할당되고 해당하는 x 값을 출력하는 코드입니다.<br><br>\n",
        "  - 이 때 x를 출력하고 난 다음, 만약 x가 4보다 작은 값이라면 for 구문을 계속 반복하고 x가 4 이상의 값이라면 for 구문을 빠져나가라는 의미입니다.<br><br>\n",
        "  - 리스트 area의 세 번째 값인 4가 x에 할당되었을 때, if 문을 만나지만 if 문 이전에 print(x)를 만나기때문에 4까지 출력이 되고 종료하게 됩니다.<br><br>\n",
        "- 조금 변형시켜 볼까요?"
      ]
    },
    {
      "cell_type": "code",
      "metadata": {
        "colab": {
          "base_uri": "https://localhost:8080/"
        },
        "id": "yyv8Q3pgo8h6",
        "outputId": "c754501c-3c84-495e-e888-c9d636d07d31"
      },
      "source": [
        "area = [1, 3, 4, 6, 7]\n",
        "\n",
        "for x in area:\n",
        "    if x < 4:\n",
        "        print(x)\n",
        "        continue\n",
        "    else:\n",
        "        break"
      ],
      "execution_count": 24,
      "outputs": [
        {
          "output_type": "stream",
          "name": "stdout",
          "text": [
            "1\n",
            "3\n"
          ]
        }
      ]
    },
    {
      "cell_type": "markdown",
      "metadata": {
        "id": "uhHn4UrgrD9V"
      },
      "source": [
        "- 코드 설명\n",
        "  - print(x) 구문을 if 문 안으로 넣어보았습니다. 이번에는 x = 4 인 경우 바로 for 문을 빠져나갔습니다. 그냥 continue 같은 것을 사용하지 않고 빠져나가는 조건만 사용해도 되지 않을까? 라고 생각하실 수 있습니다.<br><br>\n",
        "  - 실제로도 continue 구문은 헷갈린다고 빠져나가는 조건만 사용하는 경우도 많이 있습니다."
      ]
    },
    {
      "cell_type": "markdown",
      "source": [
        "- 또 다른 예제"
      ],
      "metadata": {
        "id": "jJZgla4GGoqQ"
      }
    },
    {
      "cell_type": "code",
      "metadata": {
        "colab": {
          "base_uri": "https://localhost:8080/"
        },
        "id": "UbwL_kqerCzK",
        "outputId": "801b78e2-de54-4cd1-e4a6-b0648145d4e5"
      },
      "source": [
        "area = [1, 3, 4, 6, 7]\n",
        "\n",
        "for x in area:\n",
        "    print(x)\n",
        "    if x >= 4:\n",
        "        break"
      ],
      "execution_count": 25,
      "outputs": [
        {
          "output_type": "stream",
          "name": "stdout",
          "text": [
            "1\n",
            "3\n",
            "4\n"
          ]
        }
      ]
    },
    {
      "cell_type": "markdown",
      "metadata": {
        "id": "vE2E2P3r0Vmu"
      },
      "source": [
        "- 코드 설명\n",
        "  - if 문에서의 조건만 살짝 바꾸어서 빠져나가는 구문만 적용한 예제입니다. 결과는 처음 본 예제와 같습니다.<br><br>\n",
        "  - 이렇게 보면 continue 구문은 왜 있는 것일까? 라고 생각하실 수 있지만...뭐.. 그래도 어딘가에 필요하니까 만들어진 구문이겠죠."
      ]
    },
    {
      "cell_type": "markdown",
      "source": [
        "- 어디에 필요한지 한 번 보도록 하죠."
      ],
      "metadata": {
        "id": "_aFzf1QOHC37"
      }
    },
    {
      "cell_type": "code",
      "metadata": {
        "colab": {
          "base_uri": "https://localhost:8080/"
        },
        "id": "jucWuoop0Izs",
        "outputId": "9211269d-2a49-47e0-88e3-2ebe5ece672c"
      },
      "source": [
        "area = [1, 3, 4, 6, 7]\n",
        "\n",
        "for x in area:\n",
        "    print(x)\n",
        "    if x < 4:\n",
        "        continue\n",
        "    else:\n",
        "        break\n",
        "    print(\"continue\")"
      ],
      "execution_count": 26,
      "outputs": [
        {
          "output_type": "stream",
          "name": "stdout",
          "text": [
            "1\n",
            "3\n",
            "4\n"
          ]
        }
      ]
    },
    {
      "cell_type": "markdown",
      "metadata": {
        "id": "ZgJePYkL0sTM"
      },
      "source": [
        "- 코드 설명\n",
        "  - 위의 예제를 보면... 분명히 print(\"continue\") 구문이 for문 안에 있습니다. 그렇지만 실제로 출력이 된 적은 없습니다.<br><br>\n",
        "  - continue 구문은 해당 조건을 만족할 경우 반복문을 계속 실행하라는 의미인데.. 중요한 것은 continue 구문 이후의 명령들은 생략하라~ 라는 의미라는 것입니다. 그렇기 때문에 print(\"continue\")는 언제나 생략되어 출력되지 않은 것입니다."
      ]
    },
    {
      "cell_type": "markdown",
      "source": [
        "- 하나 더 볼까요?"
      ],
      "metadata": {
        "id": "X9VVY_DFHQY_"
      }
    },
    {
      "cell_type": "code",
      "metadata": {
        "colab": {
          "base_uri": "https://localhost:8080/"
        },
        "id": "oauSOzg10o_O",
        "outputId": "038ec9f6-8fc1-4820-ceea-4923171e475f"
      },
      "source": [
        "area = [1, 3, 4, 6, 7]\n",
        "\n",
        "for x in area:\n",
        "    print(x)\n",
        "    if x < 4:\n",
        "        continue\n",
        "    elif x > 6:\n",
        "        break\n",
        "    print(\"continue\")"
      ],
      "execution_count": 27,
      "outputs": [
        {
          "output_type": "stream",
          "name": "stdout",
          "text": [
            "1\n",
            "3\n",
            "4\n",
            "continue\n",
            "6\n",
            "continue\n",
            "7\n"
          ]
        }
      ]
    },
    {
      "cell_type": "markdown",
      "metadata": {
        "id": "1_8lB2sX1El_"
      },
      "source": [
        "- 코드 설명\n",
        "  - 위의 예제에서는 if 문에서 다루는 조건은 x가 4보다 작은 경우는 continue, x가 6보다 큰 경우는 break를 만납니다.\n",
        "그 외의 x에는 if문이 걸려있지 않죠. 그래서 x가 4보다 작은 경우는 print(\"continue\")가 생략되었고 x가 6보다 커지면서 for문을 벗어나 버렸습니다. 그 조건 외에는 print(\"continue\")가 실행된 것을 확인할 수 있습니다.<br><br>\n",
        "  - 이런 차이가 있는거죠. 그런데 해당 조건을 벗어났다는 것은 위의 조건외의 모든 것이라고 할 수 있기때문에 다음의 예제처럼 구현할 수도 있습니다."
      ]
    },
    {
      "cell_type": "code",
      "metadata": {
        "colab": {
          "base_uri": "https://localhost:8080/"
        },
        "id": "GGDdVEv_1CSI",
        "outputId": "464dd80a-7f73-44e7-d0ef-8592b38e434b"
      },
      "source": [
        "area = [1, 3, 4, 6, 7]\n",
        "\n",
        "for x in area:\n",
        "    print(x)\n",
        "    if x < 4:\n",
        "        continue\n",
        "    elif x > 6:\n",
        "        break\n",
        "    else:\n",
        "        print(\"continue\")"
      ],
      "execution_count": 28,
      "outputs": [
        {
          "output_type": "stream",
          "name": "stdout",
          "text": [
            "1\n",
            "3\n",
            "4\n",
            "continue\n",
            "6\n",
            "continue\n",
            "7\n"
          ]
        }
      ]
    },
    {
      "cell_type": "markdown",
      "metadata": {
        "id": "t_3NgmIZ1riA"
      },
      "source": [
        "- 이처럼 각각의 목적에 따라 다르게 구현할 수 있고, 또 동일한 목적이 있는 구문이라도 프로그래머의 생각에 따라서 다르게 구현될 수 있습니다. 지난 글에서 \"정답은 없다\"라고 말씀드렸던 것처럼... 바로 이런 이야기입니다."
      ]
    },
    {
      "cell_type": "markdown",
      "source": [
        "- 이번에는 for ~ else 구문을 살펴볼까요?\n",
        "  - for ~ else 구문은 반복문이 break 명령에 의해서 중단되지 않은 경우에만 else 안의 명령을 수행하라는 구문입니다."
      ],
      "metadata": {
        "id": "JaerP9e-Hkep"
      }
    },
    {
      "cell_type": "code",
      "metadata": {
        "colab": {
          "base_uri": "https://localhost:8080/"
        },
        "id": "PPH6yfGB1ll8",
        "outputId": "67b3b202-9f66-4394-f55b-5e085b040a5a"
      },
      "source": [
        "area = [1, 3, 4, 6, 7]\n",
        "\n",
        "for x in area:\n",
        "    print(x)\n",
        "else:\n",
        "    print(\"finish\")"
      ],
      "execution_count": 29,
      "outputs": [
        {
          "output_type": "stream",
          "name": "stdout",
          "text": [
            "1\n",
            "3\n",
            "4\n",
            "6\n",
            "7\n",
            "finish\n"
          ]
        }
      ]
    },
    {
      "cell_type": "markdown",
      "metadata": {
        "id": "ejGjTDhg2mZM"
      },
      "source": [
        "- 코드 설명\n",
        "  - 위의 예제에서는 break 명령이 없습니다. 따라서 print('Finish')는 잘 실행되었습니다."
      ]
    },
    {
      "cell_type": "markdown",
      "source": [
        "- 그럼 중간에 break를 걸어볼까요?"
      ],
      "metadata": {
        "id": "nPWXsqhMH4IX"
      }
    },
    {
      "cell_type": "code",
      "metadata": {
        "colab": {
          "base_uri": "https://localhost:8080/"
        },
        "id": "B1phCHCS2i6w",
        "outputId": "56517d9f-bb5f-408a-ed14-04fcda10bef5"
      },
      "source": [
        "area = [1, 3, 4, 6, 7]\n",
        "\n",
        "for x in area:\n",
        "    print(x)\n",
        "    if x > 6:\n",
        "        break\n",
        "else:\n",
        "    print(\"finish\")"
      ],
      "execution_count": 30,
      "outputs": [
        {
          "output_type": "stream",
          "name": "stdout",
          "text": [
            "1\n",
            "3\n",
            "4\n",
            "6\n",
            "7\n"
          ]
        }
      ]
    },
    {
      "cell_type": "markdown",
      "metadata": {
        "id": "XGdJFE8l20z2"
      },
      "source": [
        "- 코드 설명\n",
        "  - x가 6보다 큰 경우 break를 걸어보았습니다. print(x) 명령은 if문 이전에 있기 때문에 break는 걸려있지만 이미 출력은 모두 완료되었죠. 그러나 어쨋든 break로 for문이 중단된 것이기때문에 else 구문 안의 print('Finish')는 실행되지 않았습니다."
      ]
    },
    {
      "cell_type": "markdown",
      "source": [
        "- 그럼 이렇게 바꿔볼까요?"
      ],
      "metadata": {
        "id": "0LqMemTKIBgr"
      }
    },
    {
      "cell_type": "code",
      "metadata": {
        "colab": {
          "base_uri": "https://localhost:8080/"
        },
        "id": "rSVCzPb32xcp",
        "outputId": "fd134146-1565-4f13-8740-88166a9579da"
      },
      "source": [
        "area = [1, 3, 4, 6, 7]\n",
        "\n",
        "for x in area:\n",
        "    print(x)\n",
        "    if x > 7:\n",
        "        break\n",
        "else:\n",
        "    print(\"finish\")"
      ],
      "execution_count": 31,
      "outputs": [
        {
          "output_type": "stream",
          "name": "stdout",
          "text": [
            "1\n",
            "3\n",
            "4\n",
            "6\n",
            "7\n",
            "finish\n"
          ]
        }
      ]
    },
    {
      "cell_type": "markdown",
      "metadata": {
        "id": "SJXRaXFO3JKZ"
      },
      "source": [
        "- 코드 설명\n",
        "  - x가 7보다 큰 경우에 break를 걸었습니다. 그러나 리스트 area의 마지막 값인 7이 x > 7을 만족하지 않았기때문에 if문을 만족하기 전에 for문이 끝나버렸습니다. break 명령에 걸리지 않은 것입니다. 따라서 \"Finish\"는 잘 출력되었습니다.<br><br>\n",
        "- 여기까지 해서 for ~ continue ~ break 구문과 for ~ else 구문을 살펴보았습니다."
      ]
    },
    {
      "cell_type": "markdown",
      "source": [
        "#### 1.6.3 While문\n",
        "- while 문은 for 문과 다르게 반복하기 위한 조건이 주어진다는 점이 특징입니다. while 문에 따라오는 조건을 만족하는 동안 계속해서 반복 작업을 수행하라.. 라는 의미입니다.<br><br>\n",
        "- 예제 코드를 먼저 보겠습니다."
      ],
      "metadata": {
        "id": "kB_CPeGPIOol"
      }
    },
    {
      "cell_type": "code",
      "metadata": {
        "colab": {
          "base_uri": "https://localhost:8080/"
        },
        "id": "ijvNUz542_VJ",
        "outputId": "13f992cd-1bf2-4e88-ff86-f2953d789a58"
      },
      "source": [
        "x = 1\n",
        "\n",
        "while x < 10:\n",
        "    x = x + 1\n",
        "    if x < 5:\n",
        "        continue\n",
        "    print(x)\n",
        "\n",
        "    if x > 7:\n",
        "        break"
      ],
      "execution_count": 32,
      "outputs": [
        {
          "output_type": "stream",
          "name": "stdout",
          "text": [
            "5\n",
            "6\n",
            "7\n",
            "8\n"
          ]
        }
      ]
    },
    {
      "cell_type": "markdown",
      "metadata": {
        "id": "SieUxCsn4IZd"
      },
      "source": [
        "- 코드 설명\n",
        "  - 예제 코드의 내용은 먼저 x의 초기 값을 1로 잡아 두고 x가 10보다 작은 동안에는 계속 반복 작업을 시키는 것입니다. \"x가 10보다 작은 동안\"이라는 말은 \"x < 10\" 이라는 조건이 \"참(True)\"이 되는 경우를 말하죠. 즉 주어진 x에 대하여 x < 10을 만족한다면 계속 반복 작업을 시키고, x < 10을 만족하지 않는다면, 다시 말해서 x가 10 이상의 값을 가지게 된다면 반복 작업을 중단시켜라.. 라는의미입니다.<br><br>\n",
        "  - 그렇다면 x의 값이 변하지 않으면 while 문은 영원히 반복하게 되겠죠. 그래서 반복 작업을 한 번 수행할 때마다 x의 값을 1씩 증가시킵니다. x = x + 1 구문은 x의 값에 1을 더한 값을 다시 x로 할당하여라.. 라는 명령입니다. 즉 x의 값을 x + 1로 바꿔주라는... 1을 증가시키라는 뜻이죠. 그러면 반복 작업을 한 번 수행할 때마다 x의 값은 2, 3, 4, ... 와 같이 계속 증가하게 될 것입니다.<br><br>\n",
        "  - 이렇게 x의 값을 증가시키도록 명령하고 나서 조건문이 들어왔습니다. 만약 x가 5보다 작으면 continue 명령에 따라 뒤에 따라오는 명령은 무시하고 다시 처음부터 작업을 반복합니다. x의 처음 값은 1이니까 1씩 증가하다가 x = 5가 되는 순간부터 continue 명령을 벗어나서 print(x)를 실행하게 됩니다. \n",
        "  - 이때 print(x) 명령 다음에 다시 x > 7인 경우에 대한 조건문이 들어왔죠. x가 7보다 커지면 while 반복문을 빠져나가라는 명령입니다.\n",
        "  - x = 5, 6, 7까지 print문을 수행하고 나서, 여전히 x > 7을 만족하지 않으니까 한 번 더 반복 작업을 실행합니다. x = 8이 되었고 첫 번째의 조건문을 만족하지 않으니까, 즉 첫 번째 조건의 결과가 False가 되니까 print(x)를 수행합니다. 8까지 출력이 되었죠.<br><br>\n",
        "  - 다음으로 두 번째의 조건문을 만났습니다. 지금 x의 값은 8이니까 x > 7 이라는 조건문을 만족합니다. 그럼 break 명령에 따라서 반복문을 빠져나가게 됩니다. 그럼 결과는 5, 6, 7, 8의 네 개의 숫자가 출력이 되겠죠.<br><br>\n",
        "- 이렇게 while 문을 이용한 반복문을 살펴보았습니다."
      ]
    },
    {
      "cell_type": "markdown",
      "source": [
        "- while 구문을 이용한 무한루프 사용\n",
        "  - 그런데 우리가 사용하는 많은 프로그램들은 직접 종료시키지 않으면 무한정 반복하는 프로그램들이 대부분이죠. 공부할 때 사용하는 예제코드에서는 처음부터 특정 조건을 주고 반복을 시키지만 일반적인 프로그램들은 그냥 계속 동작합니다.<br><br>\n",
        "  - 대표적인 예로 윈도우, 리눅스와 같은 OS, 즉 운영체계 프로그램을 들 수 있습니다. 우리가 컴퓨터를 종료시키지 않으면 계속... 끝없이 동작합니다.<br><br>\n",
        "  - 이처럼 강제로 무한루프(끝없이 반복, 즉 루프를 도는 구조)를 지정하려고 하면 어떻게 해야 할까요? 앞에서 while문은 따라오는 조건을 만족하는 한 계속 반복한다고 말씁드렸습니다. 그렇다면 그 조건이 언제나 참(True)이 되면 되겠네요."
      ],
      "metadata": {
        "id": "zOYdxhMfJNw9"
      }
    },
    {
      "cell_type": "code",
      "metadata": {
        "colab": {
          "base_uri": "https://localhost:8080/"
        },
        "id": "URK2bpIm4Gdr",
        "outputId": "2877deb8-0c4c-407f-93c9-94a7c950713a"
      },
      "source": [
        "x = 1\n",
        "\n",
        "while True:\n",
        "    x = x + 1\n",
        "    if x < 5:\n",
        "        continue\n",
        "    print(x)\n",
        "\n",
        "    if x > 7:\n",
        "        break"
      ],
      "execution_count": 33,
      "outputs": [
        {
          "output_type": "stream",
          "name": "stdout",
          "text": [
            "5\n",
            "6\n",
            "7\n",
            "8\n"
          ]
        }
      ]
    },
    {
      "cell_type": "markdown",
      "metadata": {
        "id": "VC4Wu-sB5NY-"
      },
      "source": [
        "- 코드 설명\n",
        "  - 예제 코드에서 사용한 것처럼 그냥 조건문 자리에 True를 넣어버리면 해당 반복문은 break를 만날때까지 무한루프를 돌게 됩니다.<br><br>\n",
        "  - 여기서 True (참) / False (거짓) 라고 하는 값은 boolean 값(논리 값이라고도 합니다)이라고 부르며 어떤 조건에 대하여 참과 거짓을 나타내는 두 개의 값을 가지는 자료형(데이터 타입)입니다.<br><br>\n",
        "- 그런데 두 개의 값을 가진다는 점에서 또 다른 사용법을 생각할 수 있습니다.\n",
        "  - 컴퓨터는 전기로 동작하죠. 전기는 켜져있거나(on, 1) 꺼져있는(off, 0) 두 가지의 상태로 나뉘어집니다. 그래서 컴퓨터는 모든 동작이 on / off로 이루어집니다.<br><br>\n",
        "  - 이때 on / off 값을 두 개의 숫자로 구성되는 2진수를 이용하여 1과 0으로 표현하도록 OS가 만들어졌습니다. 참과 거짓도 동일한 기준에 따라 참(True)은 1, 거짓(False)은 0으로 할당이 되어 있죠. 그래서 while문에 따라오는 조건에 True 대신 1을 넣어주어도 동일하게 동작합니다. 그렇지만 보기 쉽게 True / False를 이용하는 것을 권장하기도 합니다."
      ]
    },
    {
      "cell_type": "code",
      "metadata": {
        "colab": {
          "base_uri": "https://localhost:8080/"
        },
        "id": "tF1REsuo5J0L",
        "outputId": "e21650ca-0e4b-4f77-ec6f-f3c3fbccc754"
      },
      "source": [
        "x = 1\n",
        "\n",
        "while 1:\n",
        "    x = x + 1\n",
        "    if x < 5:\n",
        "        continue\n",
        "    print(x)\n",
        "\n",
        "    if x > 7:\n",
        "        break"
      ],
      "execution_count": 34,
      "outputs": [
        {
          "output_type": "stream",
          "name": "stdout",
          "text": [
            "5\n",
            "6\n",
            "7\n",
            "8\n"
          ]
        }
      ]
    },
    {
      "cell_type": "markdown",
      "metadata": {
        "id": "UsGBdqe05vgA"
      },
      "source": [
        "- 여기까지 해서 While문을 이용한 반복문에 대하여 알아보았습니다.<br><br>\n",
        "- 지금까지 살펴본 데이터 형, 기본적인 연산 및 명령, 조건문, 반복문 정도만 잘 활용해도 어지간한 프로그램은 구현할 수 있습니다. Windows 10과 같은 OS를 포함해서... 아무리 큰 프로그램이라도 각 기능별로 하나하나 쪼개나가면 그 밑바닥에는 결국 위의 4가지 정도가 기본이 되어 구현됩니다. 그 이후에는 더 고차원적인 연산, 기능을 구현하기 위해서 점점 코드를 확장하고 키워나가는것입니다.<br><br>\n",
        "- 이것으로 파이썬의 가장 기본 문법에 대하여 알아보았습니다."
      ]
    }
  ]
}